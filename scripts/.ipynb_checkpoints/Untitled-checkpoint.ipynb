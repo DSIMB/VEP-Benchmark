{
 "cells": [
  {
   "cell_type": "code",
   "execution_count": 36,
   "id": "7643fa24-5cc0-4903-ab25-73a0759af977",
   "metadata": {
    "execution": {
     "iopub.execute_input": "2024-07-07T16:06:12.274134Z",
     "iopub.status.busy": "2024-07-07T16:06:12.273920Z",
     "iopub.status.idle": "2024-07-07T16:06:12.277926Z",
     "shell.execute_reply": "2024-07-07T16:06:12.277083Z",
     "shell.execute_reply.started": "2024-07-07T16:06:12.274112Z"
    }
   },
   "outputs": [],
   "source": [
    "import pysam\n",
    "from tqdm import tqdm"
   ]
  },
  {
   "cell_type": "code",
   "execution_count": 47,
   "id": "b9f11e6d-7e3a-4135-b080-bd99dfe9f8e0",
   "metadata": {
    "execution": {
     "iopub.execute_input": "2024-07-07T17:38:23.706077Z",
     "iopub.status.busy": "2024-07-07T17:38:23.705004Z",
     "iopub.status.idle": "2024-07-07T17:38:23.850148Z",
     "shell.execute_reply": "2024-07-07T17:38:23.849055Z",
     "shell.execute_reply.started": "2024-07-07T17:38:23.706017Z"
    }
   },
   "outputs": [
    {
     "name": "stderr",
     "output_type": "stream",
     "text": [
      "100%|██████████| 1/1 [00:00<00:00, 12.68it/s]\n"
     ]
    }
   ],
   "source": [
    "import pysam\n",
    "\n",
    "# Open the tabix-indexed file\n",
    "tabix_file = pysam.TabixFile('/home/wasabi/radjasan/these/benchmark/variant_databases/CAPICE/capice_v1.0_build37_snvs.tsv.gz')\n",
    "\n",
    "# Open the file with the list of positions\n",
    "with open('positions.txt', 'r') as pos_file:\n",
    "    positions = [line.strip() for line in pos_file]\n",
    "\n",
    "# Open the output file to write results\n",
    "with open('results.tsv', 'w') as out_file:\n",
    "    # Fetch and write records for each position\n",
    "    for position in tqdm(positions):\n",
    "        for record in tabix_file.fetch(region=position):\n",
    "            items = record.split()\n"
   ]
  },
  {
   "cell_type": "code",
   "execution_count": 16,
   "id": "2e616afc-68a2-4a02-9542-d1f3ff263a81",
   "metadata": {
    "execution": {
     "iopub.execute_input": "2024-07-07T16:00:33.553439Z",
     "iopub.status.busy": "2024-07-07T16:00:33.552877Z",
     "iopub.status.idle": "2024-07-07T16:00:33.561069Z",
     "shell.execute_reply": "2024-07-07T16:00:33.559788Z",
     "shell.execute_reply.started": "2024-07-07T16:00:33.553383Z"
    }
   },
   "outputs": [
    {
     "data": {
      "text/plain": [
       "'13:300000-300001'"
      ]
     },
     "execution_count": 16,
     "metadata": {},
     "output_type": "execute_result"
    }
   ],
   "source": [
    "position"
   ]
  },
  {
   "cell_type": "code",
   "execution_count": null,
   "id": "7758d34f-41bb-435a-a208-5afb8bb7f3ba",
   "metadata": {},
   "outputs": [],
   "source": []
  },
  {
   "cell_type": "code",
   "execution_count": 48,
   "id": "8acd2744-2aa3-4069-a8c6-09b7d58f252e",
   "metadata": {
    "execution": {
     "iopub.execute_input": "2024-07-07T17:38:25.561592Z",
     "iopub.status.busy": "2024-07-07T17:38:25.561012Z",
     "iopub.status.idle": "2024-07-07T17:38:25.582592Z",
     "shell.execute_reply": "2024-07-07T17:38:25.581472Z",
     "shell.execute_reply.started": "2024-07-07T17:38:25.561535Z"
    }
   },
   "outputs": [
    {
     "name": "stdout",
     "output_type": "stream",
     "text": [
      "X\t130149545\tC\tA\t0.0004\n",
      "X\t130149545\tC\tG\t0.0004\n",
      "X\t130149545\tC\tT\t0.0004\n"
     ]
    }
   ],
   "source": [
    "for r in tabix_file.fetch(region=position):\n",
    "    print(r)"
   ]
  },
  {
   "cell_type": "code",
   "execution_count": 57,
   "id": "37da7d95-a62b-4f46-a022-4ee4ffaf0b35",
   "metadata": {
    "execution": {
     "iopub.execute_input": "2024-07-07T18:43:03.490832Z",
     "iopub.status.busy": "2024-07-07T18:43:03.489761Z",
     "iopub.status.idle": "2024-07-07T18:43:03.513941Z",
     "shell.execute_reply": "2024-07-07T18:43:03.512914Z",
     "shell.execute_reply.started": "2024-07-07T18:43:03.490766Z"
    }
   },
   "outputs": [
    {
     "name": "stderr",
     "output_type": "stream",
     "text": [
      "100%|██████████| 2000/2000 [00:00<00:00, 288744.60it/s]\n"
     ]
    }
   ],
   "source": [
    "import gzip\n",
    "\n",
    "def create_protein_index(data_file, index_file):\n",
    "    with gzip.open(data_file, 'rt') as f, open(index_file, 'w') as idx:\n",
    "        current_position = 0\n",
    "        for line in f:\n",
    "            if not line.startswith('#'):\n",
    "                protein_id, pos, *rest = line.strip().split()\n",
    "                idx.write(f\"{protein_id}\\t{pos}\\t{current_position}\\n\")\n",
    "            current_position += len(line.encode('utf-8'))\n",
    "\n",
    "\n",
    "# Usage\n",
    "create_protein_index('/home/wasabi/radjasan/these/benchmark/variant_databases/AlphaMissense/AlphaMissense_aa_substitutions.tsv.gz', '/home/wasabi/radjasan/these/benchmark/variant_databases/AlphaMissense/')\n"
   ]
  },
  {
   "cell_type": "code",
   "execution_count": 59,
   "id": "68471b65-a6b4-4d6e-b774-69115a53c843",
   "metadata": {
    "execution": {
     "iopub.execute_input": "2024-07-07T18:44:10.825390Z",
     "iopub.status.busy": "2024-07-07T18:44:10.824309Z",
     "iopub.status.idle": "2024-07-07T18:44:10.843304Z",
     "shell.execute_reply": "2024-07-07T18:44:10.842415Z",
     "shell.execute_reply.started": "2024-07-07T18:44:10.825331Z"
    }
   },
   "outputs": [
    {
     "name": "stdout",
     "output_type": "stream",
     "text": [
      "Q9Y5I1\tY459Q\t0.7914\tpathogenic\n",
      "Q9Y5R5\tN185C\t0.1931\tbenign\n"
     ]
    }
   ],
   "source": [
    "import gzip\n",
    "\n",
    "def load_index(index_file):\n",
    "    index = {}\n",
    "    with open(index_file, 'r') as f:\n",
    "        for line in f:\n",
    "            protein_id, pos, offset = line.strip().split()\n",
    "            index.setdefault(protein_id, {})[pos] = int(offset)\n",
    "    return index\n",
    "\n",
    "def fetch_protein_data(data_file, index_file, queries):\n",
    "    index = load_index(index_file)\n",
    "    results = []\n",
    "    \n",
    "    with gzip.open(data_file, 'rt') as f:\n",
    "        for query in queries:\n",
    "            protein_id, pos = query\n",
    "            if protein_id in index and pos in index[protein_id]:\n",
    "                f.seek(index[protein_id][pos])\n",
    "                results.append(f.readline().strip())\n",
    "    \n",
    "    return results\n",
    "\n",
    "# Usage\n",
    "queries = [(\"Q9Y5I1\", \"Y459Q\"), (\"Q9Y5R5\" ,\"N185C\")]\n",
    "results = fetch_protein_data('/home/wasabi/radjasan/these/benchmark/variant_databases/AlphaMissense/head.tsv.gz', 'protein_data.idx', queries)\n",
    "for result in results:\n",
    "    print(result)\n"
   ]
  },
  {
   "cell_type": "code",
   "execution_count": null,
   "id": "08436a87-e8ac-474a-a4da-a10798db44c6",
   "metadata": {},
   "outputs": [],
   "source": []
  }
 ],
 "metadata": {
  "kernelspec": {
   "display_name": "varpred",
   "language": "python",
   "name": "varpred"
  },
  "language_info": {
   "codemirror_mode": {
    "name": "ipython",
    "version": 3
   },
   "file_extension": ".py",
   "mimetype": "text/x-python",
   "name": "python",
   "nbconvert_exporter": "python",
   "pygments_lexer": "ipython3",
   "version": "3.12.4"
  }
 },
 "nbformat": 4,
 "nbformat_minor": 5
}
